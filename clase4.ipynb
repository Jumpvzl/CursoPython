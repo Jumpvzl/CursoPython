{
 "cells": [
  {
   "cell_type": "markdown",
   "metadata": {},
   "source": [
    "### Strings y sus METODOS"
   ]
  },
  {
   "cell_type": "code",
   "execution_count": null,
   "metadata": {},
   "outputs": [],
   "source": [
    "frase = 'Hola Mundo!'\n",
    "len(frase)\n",
    "#Como podemos ver, el LEN; permite contar los caracteres\n"
   ]
  },
  {
   "cell_type": "markdown",
   "metadata": {},
   "source": [
    "Metodos para String"
   ]
  },
  {
   "cell_type": "code",
   "execution_count": null,
   "metadata": {},
   "outputs": [],
   "source": [
    "# En los strings Las MAYUSCULAS y MINUSCULAS son caracteres distintos\n",
    "\n",
    "frase.count('Hola Mundo!') #nos permite ontar cuantas veces se repite una cadena en un string\n",
    "\n",
    "frase2= 'Como los dos locos que somos'\n",
    "\n",
    "frase2.count('os') #en este caso, la cadena 'os' se encuentra 4 veces en el string\n"
   ]
  },
  {
   "cell_type": "code",
   "execution_count": null,
   "metadata": {},
   "outputs": [],
   "source": [
    "# devuelve un SUB-string buscado\n",
    "\n",
    "frase2.index('os')\n",
    "\n",
    "frase3 = 'Python es un lenguaje'\n",
    "\n",
    "inicio = 0 #desde que Indice inicia\n",
    "fin = 16 #muestra la cantidad de caracteres desde el INICIO del string (indice 0)\n",
    "saltos = 2 #\n",
    "\n",
    "frase3[inicio:fin:saltos]"
   ]
  },
  {
   "cell_type": "code",
   "execution_count": null,
   "metadata": {},
   "outputs": [],
   "source": [
    "nombre = 'JuAnPaBlO'\n",
    "profesion = 'PROFE de MateMAtiCA'\n",
    "\n",
    "# Como podemos ver, un usuario puede ingresar DATOS sin respetar mayuculas o minusculas! Asi que siempre, es recomendable hacer un normalizado de datos. (Un ESTANDAR de ALMCENAMIENTO de datos)\n",
    "\n",
    "#Capitalizar: Consiste en crear un STRING con su primer letra mayuscula y luego el resto minusculas\n",
    "\n",
    "capitalizado = nombre.capitalize()\n",
    "print(capitalizado)\n",
    "\n",
    "# convertir en mayusculas o minusculas un string\n",
    "minusculas = nombre.lower()\n",
    "mayusculas = nombre.upper()\n",
    "\n",
    "print(minusculas,mayusculas)\n",
    "\n",
    "#title: nos permite capitalizar cada palabra dentro del string\n",
    "profesion_title = profesion.title()\n",
    "print(profesion_title)"
   ]
  },
  {
   "cell_type": "code",
   "execution_count": null,
   "metadata": {},
   "outputs": [],
   "source": [
    "frase4 = 'Programacion en el lenguaje Python'\n",
    "\n",
    "# para divir un string y transformar cada SUB-STRING en una LISTA, utilizo el split\n",
    "\n",
    "frase_separada = frase4.split()\n",
    "print(frase_separada)\n",
    "\n",
    "print(frase_separada[1])\n",
    "\n",
    "frase_separada2 = frase4.split('a')\n",
    "print(frase_separada2)\n",
    "\n",
    "print(frase_separada2[1])\n",
    "\n",
    "#strip: permite eliminar espacios en blanco (o caracteres no validos) dentro de un string, tanto a la izquierda como a la derecha desde el inicio o el final del string\n",
    "\n",
    "nombre='               Juan'\n",
    "nombre_strip = nombre.strip('k')\n",
    "print(nombre_strip)\n",
    "\n",
    "#! DENTRO DEL STRIP, LA CADENA DE CARACTERES QUE MENCIONEMOS, SERAN LOS CARACTERES A BUSCAR O ELIMINAR DENTRO\n",
    "\n",
    "curso = '¿¿ PROGRAMACION !!'\n",
    "curso_strip = curso.strip('! ¿')\n",
    "print(curso_strip)\n"
   ]
  },
  {
   "cell_type": "code",
   "execution_count": null,
   "metadata": {},
   "outputs": [],
   "source": [
    "# extra: podemos hacer el strip, tanto de un UNICO LADO (sea izquierda o derecha), omo de ambos\n",
    "\n",
    "curso = '            Programacion                 '\n",
    "\n",
    "print(curso.lstrip())\n",
    "print(curso.rstrip())\n",
    "\n",
    "print(curso.rjust(0)) # hacer con lopsyn \n",
    "print(curso.ljust(0))"
   ]
  },
  {
   "cell_type": "code",
   "execution_count": null,
   "metadata": {},
   "outputs": [],
   "source": [
    "#Combinaciones: is alnum nos permite obtener si es alfanumerico (alfabeto y/o numero)\n",
    "\n",
    "usuario = ' juanLab10 '\n",
    "print(usuario.isdigit())\n",
    "print(usuario.isalpha())\n",
    "print(usuario.isalnum())\n",
    "\n",
    "\n",
    "#otro metodos: isspace es muy util para verificar que los caracteres ingresados no sean todos espacios en blanco.\n",
    "nombre_espacios = '     '\n",
    "print(nombre_espacios.isspace())\n",
    "\n",
    "\n",
    "# Verificador\n",
    "\n",
    "print(nombre.islower())\n",
    "print(nombre.isupper())\n",
    "print(nombre.istitle())\n",
    "\n",
    "\n",
    "\n"
   ]
  },
  {
   "cell_type": "code",
   "execution_count": null,
   "metadata": {},
   "outputs": [],
   "source": [
    "#swapcase: invierte los caracteres de minuscula a mayusculas y viseversa\n",
    "\n",
    "test = 'Juan'\n",
    "\n",
    "print(test.swapcase())"
   ]
  },
  {
   "cell_type": "code",
   "execution_count": null,
   "metadata": {},
   "outputs": [],
   "source": [
    "#replace: nos permite reemplazar sub-strings\n",
    "\n",
    "frase_p = 'me gustan los perros y los gatos, aunque larguen mucho pelo, mis favoritos son los perros'\n",
    "\n",
    "#reemplazar perros por aguilas\n",
    "\n",
    "print(frase_p.replace('perros','aguilas'))\n",
    "\n",
    "print(frase_p.replace('perros','aguilas',1)) # se determina cuantas veces se pueden reemplazar"
   ]
  },
  {
   "cell_type": "code",
   "execution_count": null,
   "metadata": {},
   "outputs": [],
   "source": [
    "#podemos crear un String mediante una LISTA. Para esto utilizaremos el metodo JOIN, indicando cual es EL ITERABLE que queremos transformar en String y cual sera la CADENA que usaremos para UNIR\n",
    "\n",
    "\n",
    "nombres = ['luisa','seba','natlaio','karina','marco','ginett','luis','smailliw','karen']\n",
    "\n",
    "print(\", \".join(nombres))"
   ]
  },
  {
   "cell_type": "markdown",
   "metadata": {},
   "source": [
    "Ejercicio de uso de metodos de string: Dada una frase, devolver dicha frase pero Capitalizada, y sin los espacioes en blanco\n",
    "\n",
    "'          python ES UN LENGuaje de PROGRmacion            '"
   ]
  },
  {
   "cell_type": "code",
   "execution_count": null,
   "metadata": {},
   "outputs": [],
   "source": [
    "frase= '          python ES UN LENGuaje de PROGRmacion            '\n",
    "\n",
    "print(frase.strip().capitalize())"
   ]
  },
  {
   "cell_type": "markdown",
   "metadata": {},
   "source": [
    "Ejercicio dada una lista, tomar todos los elementos, unirlos con una coma, dejar todo en mayuscula y unir el string final a un string 'ayer comi ' \n",
    "\n",
    "comidas = ['hamburguesas','pizzas','papas','helado','cambur','palta','arroz','huevo']\n",
    "\n",
    "Ayer comi hamburguesas,pizzas,papas,helado,cambur,palta,arroz,huevo"
   ]
  },
  {
   "cell_type": "code",
   "execution_count": 55,
   "metadata": {},
   "outputs": [
    {
     "name": "stdout",
     "output_type": "stream",
     "text": [
      "Ayer comi hamburguesas, pizzas, papas, helado, cambur, palta, arroz, huevo\n"
     ]
    }
   ],
   "source": [
    "comidas = ['hamburguesas','pizzas','papas','helado','cambur','palta','arroz','huevo']\n",
    "\n",
    "print(\"Ayer comi \" +\", \".join(comidas))"
   ]
  }
 ],
 "metadata": {
  "kernelspec": {
   "display_name": "Python 3",
   "language": "python",
   "name": "python3"
  },
  "language_info": {
   "codemirror_mode": {
    "name": "ipython",
    "version": 3
   },
   "file_extension": ".py",
   "mimetype": "text/x-python",
   "name": "python",
   "nbconvert_exporter": "python",
   "pygments_lexer": "ipython3",
   "version": "3.11.5"
  }
 },
 "nbformat": 4,
 "nbformat_minor": 2
}
