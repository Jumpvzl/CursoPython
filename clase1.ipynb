{
 "cells": [
  {
   "cell_type": "markdown",
   "metadata": {},
   "source": [
    "¿Que es un Dato? es una fraccion minima de informacion"
   ]
  },
  {
   "cell_type": "markdown",
   "metadata": {},
   "source": [
    "Tipos de Datos"
   ]
  },
  {
   "cell_type": "code",
   "execution_count": null,
   "metadata": {},
   "outputs": [],
   "source": [
    "# Datos Integer: Son datos exclusivamente compuestos por un numero entero\n",
    "\n",
    "34\n",
    "\n",
    "# Datos Float: Son datos los cuales tienen Decimales\n",
    "\n",
    "1,75\n",
    "98.200\n",
    "\n",
    "# Datos String: Es una cadena de caracteres que puede contener letras, simbolos e inclusive numeros\n",
    "\n",
    "'castillojuanpa@gmail.com'\n",
    "'jumpvzl'\n",
    "'juanpa'\n",
    "\n",
    "#! Regla de ORO: Los numeros que NO SE UTILICEN PARA OPERACIONES MATEMATICAS, van con String\n",
    "\n",
    "#Booleanos. Solo tienen 2 estados True o False. Son utilizados para obtener datos verdaderos o falsos\n",
    "\n",
    "True or False\n",
    "\n"
   ]
  },
  {
   "cell_type": "markdown",
   "metadata": {},
   "source": [
    "Como Comprobar un tipo de dato"
   ]
  },
  {
   "cell_type": "code",
   "execution_count": 6,
   "metadata": {},
   "outputs": [
    {
     "name": "stdout",
     "output_type": "stream",
     "text": [
      "<class 'NoneType'>\n",
      "<class 'int'>\n",
      "<class 'str'>\n",
      "<class 'str'>\n",
      "<class 'bool'>\n"
     ]
    }
   ],
   "source": [
    "print(type(None))\n",
    "print(type(8))\n",
    "print(type('hola mundo'))\n",
    "print(type('9,5'))\n",
    "print(type(True))"
   ]
  },
  {
   "cell_type": "markdown",
   "metadata": {},
   "source": [
    "Variable: es una \"Caja\" donde se almacena Informacion"
   ]
  },
  {
   "cell_type": "code",
   "execution_count": 7,
   "metadata": {},
   "outputs": [
    {
     "name": "stdout",
     "output_type": "stream",
     "text": [
      "34\n"
     ]
    }
   ],
   "source": [
    "#Como se declara una variable:\n",
    "\n",
    "edad = 34 #Acabo de crear una caja con la etiqueta \"edad\" y adentro almacene el dato 34\n",
    "print(edad)"
   ]
  },
  {
   "cell_type": "markdown",
   "metadata": {},
   "source": [
    "Metodos de declaracion: camelCase, snake_case, PascalCase"
   ]
  },
  {
   "cell_type": "code",
   "execution_count": null,
   "metadata": {},
   "outputs": [],
   "source": [
    "direcciondemicasa = 'Calle Nuñez de Vela e3-95 y Amazonas'\n",
    "\n",
    "# para facilitar la lectura, existen 3 metodos. Los 2 mas utilizados son camelCase y snake_case\n",
    "\n",
    "# snake_case: dentro de este tipo de metodos, pondremos todas las palabras separadas por un guion bajo\n",
    "\n",
    "direccion_de_mi_casa= 'Calle Nuñez de Vela e3-95 y Amazonas'\n",
    "\n",
    "# CamelCase: en este metodo, todas las palabras van CAPITALIZADAS (unicamente 1er letra en mayuculas), excepto la primera palabra\n",
    "\n",
    "direccionDeMiCasa = 'Calle Nuñez de Vela e3-95 y Amazonas'\n",
    "\n",
    "# PascalCase: en este metodo, todas las plaabras van CAPITALIZADAS.\n",
    "## ATENCION: este metodo solo se usa en prog orientada a Objetos 'declaracion de clases'\n",
    "\n",
    "class SerHumano():\n",
    "    '.......'\n",
    "\n"
   ]
  }
 ],
 "metadata": {
  "kernelspec": {
   "display_name": "Python 3",
   "language": "python",
   "name": "python3"
  },
  "language_info": {
   "codemirror_mode": {
    "name": "ipython",
    "version": 3
   },
   "file_extension": ".py",
   "mimetype": "text/x-python",
   "name": "python",
   "nbconvert_exporter": "python",
   "pygments_lexer": "ipython3",
   "version": "3.11.5"
  }
 },
 "nbformat": 4,
 "nbformat_minor": 2
}
