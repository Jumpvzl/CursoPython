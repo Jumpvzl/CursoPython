{
 "cells": [
  {
   "cell_type": "markdown",
   "metadata": {},
   "source": [
    "¿Que es un Dato? es una fraccion minima de informacion"
   ]
  },
  {
   "cell_type": "markdown",
   "metadata": {},
   "source": [
    "Tipos de Datos"
   ]
  },
  {
   "cell_type": "code",
   "execution_count": null,
   "metadata": {},
   "outputs": [],
   "source": [
    "# Datos Integer: Son datos exclusivamente compuestos por un numero entero\n",
    "\n",
    "34\n",
    "\n",
    "# Datos Float: Son datos los cuales tienen Decimales\n",
    "\n",
    "1,75\n",
    "98.200\n",
    "\n",
    "# Datos String: Es una cadena de caracteres que puede contener letras, simbolos e inclusive numeros\n",
    "\n",
    "'castillojuanpa@gmail.com'\n",
    "'jumpvzl'\n",
    "'juanpa'\n",
    "\n",
    "#! Regla de ORO: Los numeros que NO SE UTILICEN PARA OPERACIONES MATEMATICAS, van con String\n",
    "\n",
    "#Booleanos. Solo tienen 2 estados True o False. Son utilizados para obtener datos verdaderos o falsos\n",
    "\n",
    "True or False\n",
    "\n"
   ]
  },
  {
   "cell_type": "markdown",
   "metadata": {},
   "source": [
    "Como Comprobar un tipo de dato"
   ]
  },
  {
   "cell_type": "code",
   "execution_count": null,
   "metadata": {},
   "outputs": [],
   "source": [
    "print(type(None))\n",
    "print(type(8))\n",
    "print(type('hola mundo'))\n",
    "print(type('9,5'))\n",
    "print(type(True))"
   ]
  },
  {
   "cell_type": "markdown",
   "metadata": {},
   "source": [
    "Variable: es una \"Caja\" donde se almacena Informacion"
   ]
  },
  {
   "cell_type": "code",
   "execution_count": null,
   "metadata": {},
   "outputs": [],
   "source": [
    "#Como se declara una variable:\n",
    "\n",
    "edad = 34 #Acabo de crear una caja con la etiqueta \"edad\" y adentro almacene el dato 34\n",
    "print(edad)"
   ]
  },
  {
   "cell_type": "markdown",
   "metadata": {},
   "source": [
    "Metodos de declaracion: camelCase, snake_case, PascalCase"
   ]
  },
  {
   "cell_type": "code",
   "execution_count": null,
   "metadata": {},
   "outputs": [],
   "source": [
    "direcciondemicasa = 'Calle Nuñez de Vela e3-95 y Amazonas'\n",
    "\n",
    "# para facilitar la lectura, existen 3 metodos. Los 2 mas utilizados son camelCase y snake_case\n",
    "\n",
    "# snake_case: dentro de este tipo de metodos, pondremos todas las palabras separadas por un guion bajo\n",
    "\n",
    "direccion_de_mi_casa= 'Calle Nuñez de Vela e3-95 y Amazonas'\n",
    "\n",
    "# CamelCase: en este metodo, todas las palabras van CAPITALIZADAS (unicamente 1er letra en mayuculas), excepto la primera palabra\n",
    "\n",
    "direccionDeMiCasa = 'Calle Nuñez de Vela e3-95 y Amazonas'\n",
    "\n",
    "# PascalCase: en este metodo, todas las plaabras van CAPITALIZADAS.\n",
    "## ATENCION: este metodo solo se usa en prog orientada a Objetos 'declaracion de clases'\n",
    "\n",
    "class SerHumano():\n",
    "    '.......'"
   ]
  },
  {
   "cell_type": "markdown",
   "metadata": {},
   "source": [
    "Manera Correcta e Incorrecta de declarar variables"
   ]
  },
  {
   "cell_type": "code",
   "execution_count": null,
   "metadata": {},
   "outputs": [],
   "source": [
    "# metodos correctos: son aquellos que no nos generan ERRORES\n",
    "\n",
    "edad = 34\n",
    "mi_variable = 'hola mundo' #usando snake_case o CamelCase\n",
    "variable1 = 'Juanpa'\n",
    "variable2 = 'ConsultancySecurity' # uso de letras y luego numero"
   ]
  },
  {
   "cell_type": "code",
   "execution_count": null,
   "metadata": {},
   "outputs": [],
   "source": [
    "# metodos incorrectos: son aquellos que generan un error\n",
    "\n",
    "1000 = 'un numero' #no se pueden declarar variables SOLO con numeros\n",
    "100palabra = 'palabra' #no se puede declarar variables usando numeros y luego letras\n",
    "$hola = 'una variable' # no se pueden declarar variables con simbolos, excepto el _ (guion bajo)\n",
    "mi variable = 'esto es una variable' #no se puede dejar espacios\n",
    "# palabras reservadas python no se pueden utilizar como variables \"if else while\"\n",
    "if = 'mi variable' #no se puede "
   ]
  },
  {
   "cell_type": "code",
   "execution_count": null,
   "metadata": {},
   "outputs": [],
   "source": [
    "#Recomendaciones y buenas practicas de declaraciones de variables: son maneras, que si bien no generan errores, no se recomienda utilizar\n",
    "\n",
    "NOMBRE = 'juan' #no declarar variables en mayusculas. Estos casos se utilizan para las denominadas constantes.\n",
    "VaRiAbLe = 'dato' #no alternar mayusculas y minusculas\n",
    "Nombre = 'juan' #ni delacarar con mayuscula inicializada, esto se utiliza en clases\n",
    "año = 1998 # no usar letras del alfabeto que no se encuentren en otros idiomas/lenguajes\n",
    "canción = 'newyork' #no usar acentos "
   ]
  },
  {
   "cell_type": "markdown",
   "metadata": {},
   "source": [
    "Pedir y mostrar datos por pantalla"
   ]
  },
  {
   "cell_type": "code",
   "execution_count": null,
   "metadata": {},
   "outputs": [],
   "source": [
    "nombre = input('Hola, ¿cual es tu Nombre?')\n",
    "print('Bienvenido '+ nombre +' a Python')"
   ]
  },
  {
   "cell_type": "markdown",
   "metadata": {},
   "source": [
    "Maneras de mostrar mensajes utilizados Variables y String"
   ]
  },
  {
   "cell_type": "code",
   "execution_count": null,
   "metadata": {},
   "outputs": [],
   "source": [
    "# mensaje que diga \"Hola Juan Bienvenido a Python\"\n",
    "usuario = 'Juan'\n",
    "\n",
    "#Metodo 1: Sepracacion por comas: separo los strings y las variables utilizando comas\n",
    "print(\"Hola\",usuario,\"Bienvenido a Python\")\n",
    "\n",
    "#Metodo 2: Concatenacion: Consiste en unir las variables de tipo string con nuestros Strings en el print. Para concatenar, usamos el signo +\n",
    "print(\"Hola \"+usuario+\" Bienvenido a Python\")\n",
    "\n",
    "#Metodo 3: Format String: En este metodo, escribiremos un Unico String y antes de este, pondremos la letra f. Luego, Dentro de llaves, encerramos la variable que vayamos a utilizar\n",
    "print(f'Hola {usuario} Bienvenido a Python')\n",
    "\n",
    "#Metodo 4: FORMAT antiguo\n",
    "print('hola {} Bienvenido a Python'.format(usuario))"
   ]
  },
  {
   "cell_type": "code",
   "execution_count": null,
   "metadata": {},
   "outputs": [],
   "source": [
    "nombre = 'Juan'\n",
    "pais = 'Venezuela'\n",
    "mascota = 'Druzo'\n",
    "edad= 34\n",
    "\n",
    "print(f\"Hola, {nombre} que lindo pais es {pais}. Espero que tu mascota {mascota} se encuentre bien\")\n",
    "\n",
    "print(\"Hola,\",nombre,'veo que tienes',edad,'años. Que lindo es',pais,', Espero que tu',mascota,'se encuentre bien')\n",
    "\n",
    "print('Hola, ' + nombre + ' veo que tienes ' +str(edad)+ ' años. Que lindo es ' +pais+ ', Espero que tu ' +mascota+ ' se encuentre bien')"
   ]
  },
  {
   "cell_type": "markdown",
   "metadata": {},
   "source": [
    "CONVERSION DE DATOS"
   ]
  },
  {
   "cell_type": "code",
   "execution_count": null,
   "metadata": {},
   "outputs": [],
   "source": [
    "#vamos a pedir al usuario numeros y devolvemos la suma\n",
    "numero1 = input('ingrese el primer numero ')\n",
    "numero2 = input('ingrese el segundo numero ')\n",
    "resultado = numero1 + numero2\n",
    "print(f'La suma de los numeros {numero1} y {numero2} es {resultado}')"
   ]
  },
  {
   "cell_type": "code",
   "execution_count": null,
   "metadata": {},
   "outputs": [],
   "source": [
    "#se puede convertir el resultado\n",
    "\n",
    "numero1 = input('ingrese el primer numero ')\n",
    "numero2 = input('ingrese el segundo numero ')\n",
    "resultado = int(numero1) + int(numero2)\n",
    "print(f'La suma de los numeros {numero1} y {numero2} es {resultado}')\n",
    "print(type(numero1))"
   ]
  },
  {
   "cell_type": "code",
   "execution_count": null,
   "metadata": {},
   "outputs": [],
   "source": [
    "#se puede convertir al momento de ingresarlo\n",
    "\n",
    "numero1 = int(input('ingrese el primer numero'))\n",
    "print(type(numero1))"
   ]
  },
  {
   "cell_type": "markdown",
   "metadata": {},
   "source": [
    "Redondear decimales"
   ]
  },
  {
   "cell_type": "code",
   "execution_count": 31,
   "metadata": {},
   "outputs": [
    {
     "name": "stdout",
     "output_type": "stream",
     "text": [
      "Su Indice de masa corporal es: 0.04\n"
     ]
    }
   ],
   "source": [
    "# Round: nos permite redondear una variable/numero, con la cant de decimales que decidimos mostrar\n",
    "\n",
    "peso = float(input('Indique su peso: '))\n",
    "altura = float(input('Indique su altura: '))\n",
    "\n",
    "imc = peso / (altura*altura)\n",
    "\n",
    "print(f'Su Indice de masa corporal es: {round(imc,2)}')"
   ]
  }
 ],
 "metadata": {
  "kernelspec": {
   "display_name": "Python 3",
   "language": "python",
   "name": "python3"
  },
  "language_info": {
   "codemirror_mode": {
    "name": "ipython",
    "version": 3
   },
   "file_extension": ".py",
   "mimetype": "text/x-python",
   "name": "python",
   "nbconvert_exporter": "python",
   "pygments_lexer": "ipython3",
   "version": "3.11.5"
  }
 },
 "nbformat": 4,
 "nbformat_minor": 2
}
