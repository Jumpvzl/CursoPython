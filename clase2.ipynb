{
 "cells": [
  {
   "cell_type": "markdown",
   "metadata": {},
   "source": [
    "Operacion entre Datos"
   ]
  },
  {
   "cell_type": "markdown",
   "metadata": {},
   "source": [
    "Los diferentes tipos de datos (STRINGS, numericos o booleanos), pueden trabajar y operar entre si, segun el TIPO de operacion que utilicemos. Las principales operaciones como suma, resta, division o multiplicacion, podremos utilizarlas directamente con sintaxis de python. Otras, como por ejemplo raiz o logaritmos, debemos utilizar librerias que nos ofrece python."
   ]
  },
  {
   "cell_type": "code",
   "execution_count": 4,
   "metadata": {},
   "outputs": [
    {
     "name": "stdout",
     "output_type": "stream",
     "text": [
      "2.75\n",
      "2\n",
      "3\n"
     ]
    }
   ],
   "source": [
    "div1= (11 / 4 )\n",
    "print(div1)\n",
    "\n",
    "# divisiones enteras y residuos\n",
    "\n",
    "# division enteras\n",
    "\n",
    "div2= (11 // 4 )\n",
    "print(div2)\n",
    "\n",
    "# division residuos\n",
    "div3=(11 % 4)\n",
    "print(div3)\n"
   ]
  }
 ],
 "metadata": {
  "kernelspec": {
   "display_name": "Python 3",
   "language": "python",
   "name": "python3"
  },
  "language_info": {
   "codemirror_mode": {
    "name": "ipython",
    "version": 3
   },
   "file_extension": ".py",
   "mimetype": "text/x-python",
   "name": "python",
   "nbconvert_exporter": "python",
   "pygments_lexer": "ipython3",
   "version": "3.11.5"
  }
 },
 "nbformat": 4,
 "nbformat_minor": 2
}
